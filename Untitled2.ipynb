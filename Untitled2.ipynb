{
 "cells": [
  {
   "cell_type": "code",
   "execution_count": 2,
   "id": "e2119257-ea7b-4b1d-a87a-e1d5a25e8e50",
   "metadata": {
    "tags": []
   },
   "outputs": [],
   "source": [
    "import pandas as pd\n",
    "\n",
    "# שלבי קריאה ואיחוד\n",
    "urls = [\"https://raw.githubusercontent.com/hadasl1/Crimes_in_Israel/refs/heads/main/part_1.csv\",\n",
    "    \"https://raw.githubusercontent.com/hadasl1/Crimes_in_Israel/refs/heads/main/part_2.csv\",\n",
    "    \"https://raw.githubusercontent.com/hadasl1/Crimes_in_Israel/refs/heads/main/part_3.csv\",\n",
    "       \"https://raw.githubusercontent.com/hadasl1/Crimes_in_Israel/refs/heads/main/part_4.csv\"]\n",
    "\n",
    "dfs = [pd.read_csv(url) for url in urls]\n",
    "full_df = pd.concat(dfs, ignore_index=True)\n",
    "\n",
    "# שמירה לקובץ CSV חדש\n",
    "full_df.to_csv(\"merged_file.csv\", index=False)\n"
   ]
  },
  {
   "cell_type": "code",
   "execution_count": null,
   "id": "f691cb9e-12fe-44e4-98db-fa188828c651",
   "metadata": {},
   "outputs": [],
   "source": []
  }
 ],
 "metadata": {
  "kernelspec": {
   "display_name": "Python 3 (ipykernel)",
   "language": "python",
   "name": "python3"
  },
  "language_info": {
   "codemirror_mode": {
    "name": "ipython",
    "version": 3
   },
   "file_extension": ".py",
   "mimetype": "text/x-python",
   "name": "python",
   "nbconvert_exporter": "python",
   "pygments_lexer": "ipython3",
   "version": "3.11.5"
  }
 },
 "nbformat": 4,
 "nbformat_minor": 5
}
