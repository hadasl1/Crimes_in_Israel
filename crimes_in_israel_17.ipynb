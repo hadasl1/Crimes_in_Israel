{
 "cells": [
  {
   "cell_type": "markdown",
   "id": "a55f0f44-23b4-4908-ad0f-ec09959c26ab",
   "metadata": {},
   "source": [
    "<img src=\"data:image/jpeg;base64,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\" alt=\"תיאור\" width=\"1000\">\n"
   ]
  },
  {
   "cell_type": "markdown",
   "id": "f5421eed-6c8f-4326-b7c9-5d6b6f6c2e09",
   "metadata": {},
   "source": [
    "<div style=\"color:white; border-radius:8px; background-color:#D8CAB8; font-size:250%; letter-spacing:1.0px; padding: 1px; text-align: center;\">\n",
    "    <b>Crime in Israel (project number 17)</b>\n",
    "</div>"
   ]
  },
  {
   "cell_type": "markdown",
   "id": "bf913000-a289-4842-b15f-fcbb2f2f85ab",
   "metadata": {},
   "source": [
    "\n",
    "## <span style=\"color: #D8CAB8\">Names of students: </span>\n",
    "lior Bangy<br> \n",
    "Hadas Kaufman<br> \n",
    "Talya Amrani<br> <br>\n",
    "From: https://data.gov.il/dataset/crime_records_data/resource/5fc13c50-b6f3-4712-b831-a75e0f91a17e<br>\n",
    "sources: data.gov.il\n"
   ]
  },
  {
   "cell_type": "markdown",
   "id": "c50cacf3-6816-4d2c-98c2-e42ffd9a1e33",
   "metadata": {
    "jp-MarkdownHeadingCollapsed": true,
    "tags": []
   },
   "source": [
    "<div style=\"color:white; border-radius:8px; background-color:#D8CAB8; font-size:200%; letter-spacing:1.0px; padding: 1px; text-align: center;\">\n",
    "    <b>שיתוף פעולה בתהליך העבודה</b>\n",
    "</div>\n",
    "\n",
    "<br>\n",
    "\n",
    "<div style=\"text-align: right; direction: rtl; font-size: 16px; line-height: 1.8;\">\n",
    "\n",
    "- במהלך העבודה שיתפנו פעולה באופן הדוק והתמקדנו בעיקר בתהליך המשותף שביצענו יחד.  \n",
    "- התחלנו בבחירת נושא למחקר, שהתבסס על הקשרים שהתגלו בין משתנים.\n",
    "- בהמשך הגדרנו יחד את מתווה העבודה, כולל פירוט של כל שלב:\n",
    "  - כיצד נבחן את הנושא  \n",
    "  - אילו השערות נרצה לבדוק  \n",
    "  - איך ניתן להמחיש את הממצאים בצורה ויזואלית ברורה ונגישה.\n",
    "- במהלך גיבוש התכנית ניסחנו מספר גרסאות ראשוניות, שחלקן שוכתבו או הוסרו.\n",
    "- לאחר מכן הרצנו ניסויים במקביל – חלקם המשיכו לכיוונים מבטיחים, ואחרים הסתיימו ללא תוצאות משמעותיות.  \n",
    "  התוצרים שהובילו לתובנות – מופיעים בקובץ הסופי.\n",
    "- לאורך הדרך התייעצנו בנוגע לגרפים, ניתחנו יחד תוצאות ותחקרנו אותן מתוך סקרנות וחשיבה ביקורתית.\n",
    "- לעיתים חילקנו את המשימות מחדש לפי תחומי עניין או היכרות עם החומר.\n",
    "- כללנו גם החלפת תפקידים ועבודה על מחשבים שונים לפי הצורך.\n",
    "\n",
    "</div>\n"
   ]
  },
  {
   "cell_type": "markdown",
   "id": "6dada3e3-ca03-48da-a5dc-2313cc067bdc",
   "metadata": {},
   "source": [
    "<div dir=\"rtl\" style=\"background-color:#D8CAB8; color:white; font-size:18px; line-height:1.6; padding:16px 24px; border-radius:10px; max-width:700px; margin: 20px auto; font-family: Arial, sans-serif; text-align: right;\">\n",
    "\n",
    "  <p>\n",
    "    בפרויקט זה בחנו את מגמות הפשיעה ב-20 הערים הגדולות ובערי הנופש בישראל, בהתבסס על נתונים שנאספו בין השנים 2023-2024.\n",
    "  </p>\n",
    "\n",
    "  <p>\n",
    "    מטרתנו הייתה להבין דפוסים ושינויים בהיקף וסוגי הפשיעה לאורך זמן ובאזורים גאוגרפיים שונים, תוך התמקדות בהשוואות בין ערים ואזורים בתוך ערים.\n",
    "  </p>\n",
    "\n",
    "  <p>\n",
    "    הנתונים שנבדקו נלקחו ממקורות רשמיים ומציגים את נתוני הפשיעה בישראל ברמה המיקרו-גאוגרפית. כל רשומה מתארת מקרה פשע יחיד, הכולל פרטים כמו:\n",
    "  </p>\n",
    "\n",
    "  <ul>\n",
    "    <li>מספר סידורי של העבירה</li>\n",
    "    <li>הרבעון שבו התרחשה העבירה</li>\n",
    "    <li>היררכיה משטרתית גאוגרפית – מחוז, מרחב ותחנה</li>\n",
    "    <li>סוג הפשע וסוג העבירה – לדוגמה, עבירת מוסר כמו אחזקת סם לא חוקי</li>\n",
    "  </ul>\n",
    "\n",
    "</div>\n",
    "\n"
   ]
  },
  {
   "cell_type": "markdown",
   "id": "bf17cde6-04d7-4fe8-935a-f7f8f2cb5165",
   "metadata": {},
   "source": [
    "<a id='section0'></a>\n",
    "## <span style=\"color: #D8CAB8\">Table of Contents:  </span>\n",
    "\n",
    "1.  Getting to know+clearing the data\n",
    "2.  **First path** - Crime in Jerusalem\n",
    "3.  **Second path** - The relationship between socioeconomic status and the amount and types of crime\n",
    "4.  **Third path** - How does summer affect crime in Israel? \n",
    "5.  **Summary**"
   ]
  },
  {
   "cell_type": "code",
   "execution_count": 1,
   "id": "325be11f-9ab2-42d4-9707-0846e975bc40",
   "metadata": {
    "tags": []
   },
   "outputs": [],
   "source": [
    "import pandas as pd\n",
    "import numpy as np\n",
    "import matplotlib.pyplot as plt\n",
    "import seaborn as sns\n",
    "from matplotlib import font_manager\n",
    "custom_palette = [\"#4B4B4B\", \n",
    "                  \"#D8CAB8\"] "
   ]
  },
  {
   "cell_type": "code",
   "execution_count": 2,
   "id": "11bfac35-db62-4ef6-8931-6745a46cb707",
   "metadata": {
    "tags": []
   },
   "outputs": [],
   "source": [
    "urls = [\"https://raw.githubusercontent.com/hadasl1/Crimes_in_Israel/refs/heads/main/part_1.csv\",\n",
    "    \"https://raw.githubusercontent.com/hadasl1/Crimes_in_Israel/refs/heads/main/part_2.csv\",\n",
    "    \"https://raw.githubusercontent.com/hadasl1/Crimes_in_Israel/refs/heads/main/part_3.csv\",\n",
    "       \"https://raw.githubusercontent.com/hadasl1/Crimes_in_Israel/refs/heads/main/part_4.csv\"]\n",
    "\n",
    "dfs = [pd.read_csv(url) for url in urls]\n",
    "full_df = pd.concat(dfs, ignore_index=True)\n",
    "\n",
    "full_df.to_csv(\"top20_ 23-24_.csv\", index=False)\n"
   ]
  },
  {
   "cell_type": "markdown",
   "id": "410f3bba-e7f7-43ec-a2c8-6f451a239728",
   "metadata": {},
   "source": [
    "<div style=\"color:white; border-radius:8px; background-color:#D8CAB8; font-size:250%; letter-spacing:1.0px; padding: 1px; text-align: center;\">\n",
    "    <b>רקע על הנתונים</b>\n",
    "</div>\n"
   ]
  },
  {
   "cell_type": "code",
   "execution_count": null,
   "id": "41cbe6a9-9de4-4034-84d4-04ed3604cf81",
   "metadata": {
    "scrolled": true,
    "tags": []
   },
   "outputs": [],
   "source": [
    "df = pd.read_pickle(\"https://github.com/hadasl1/Crimes_in_Israel/raw/main/pickled_df_update%20(3)%20(1)\")\n",
    "df"
   ]
  },
  {
   "cell_type": "code",
   "execution_count": null,
   "id": "f896a3fb-cf2a-46ec-9a50-e904dccee843",
   "metadata": {
    "tags": []
   },
   "outputs": [],
   "source": [
    "df.shape"
   ]
  },
  {
   "cell_type": "code",
   "execution_count": null,
   "id": "4459bc74-ce1b-417a-8234-b325e76cec60",
   "metadata": {
    "tags": []
   },
   "outputs": [],
   "source": [
    "df.columns"
   ]
  },
  {
   "cell_type": "markdown",
   "id": "5ec7d477-3542-414a-b8c0-323e4e87bec2",
   "metadata": {},
   "source": [
    "<div style=\"color:white; border-radius:8px; background-color:#D8CAB8; font-size:250%; letter-spacing:1.0px; padding: 1px; text-align: center;\">\n",
    "    <b>פשיעה בירושלים - 2023-2024</b>\n",
    "</div>\n"
   ]
  },
  {
   "cell_type": "code",
   "execution_count": null,
   "id": "51ca6b78-ad2e-4732-ac83-1290266bf1e2",
   "metadata": {
    "tags": []
   },
   "outputs": [],
   "source": [
    "df_Jerusalem = pd.read_csv(\"top20_ 23-24_.csv\")\n",
    "df_Jerusalem"
   ]
  },
  {
   "cell_type": "markdown",
   "id": "8ecb3816-1906-454e-985d-a11676115bf8",
   "metadata": {},
   "source": [
    "<div dir='rtl'>\n",
    "ראשית, רצינו לבחון את התפלגות הפשיעה בירושלים בשנים 2023-2024, תוך בחינה של כמות הפשיעה פר רבעון"
   ]
  },
  {
   "cell_type": "code",
   "execution_count": null,
   "id": "5c71b5eb-eb88-4221-aa75-76406a6c1ebc",
   "metadata": {
    "tags": []
   },
   "outputs": [],
   "source": [
    "\n",
    "\n",
    "jerusalem_df = df_Jerusalem[(df_Jerusalem[\"Yeshuv\"] == \"Jerusalem\")]\n",
    "\n",
    "all_cities_df = df_Jerusalem[(df_Jerusalem[\"Yeshuv\"] != \"Jerusalem\")]\n",
    "\n",
    "\n",
    "grouped = jerusalem_df.groupby([\"Quarter\", \"Year\"]).size().reset_index(name=\"Count\")\n",
    "\n",
    "quarter_order = ['Q1', 'Q2', 'Q3', 'Q4']\n",
    "grouped['Quarter'] = pd.Categorical(grouped['Quarter'], categories=quarter_order, ordered=True)\n",
    "\n",
    "grouped = grouped.sort_values(by=[\"Year\", \"Quarter\"])\n",
    "\n",
    "plt.figure(figsize=(14, 6))\n",
    "sns.barplot(data=grouped, x=\"Quarter\", y=\"Count\", hue=\"Year\",palette=custom_palette,edgecolor='black')\n",
    "\n",
    "plt.title(\"Crime Count per Quarter by Year - Jerusalem\")\n",
    "plt.xlabel(\"Quarter\")\n",
    "plt.ylabel(\"Number of Crimes\")\n",
    "plt.tight_layout()\n",
    "plt.show()\n"
   ]
  },
  {
   "cell_type": "markdown",
   "id": "0c493c38-15a0-447c-86fe-333f8c25e915",
   "metadata": {},
   "source": [
    " <div dir='rtl'>\n",
    " רצינו לבדוק האם הירידה בכמות הפשיעה שחלה ב2024 בעיר ירושלים מושפעת מסוגי פשיעה ספציפיים או שמדובר במגמה שרווחת בסוגי פשיעה מגוונים ולכן בנינו שני גרפים - הראשון מתאר את סוגי הפשיעה בהן 2023 מובילה על 2024 והשני שמתאר את המצב ההפוך "
   ]
  },
  {
   "cell_type": "code",
   "execution_count": null,
   "id": "32075bae-d8da-4bee-b3c4-3fe2e771d485",
   "metadata": {
    "tags": []
   },
   "outputs": [],
   "source": [
    "import matplotlib.pyplot as plt\n",
    "import seaborn as sns\n",
    "import pandas as pd\n",
    "import numpy as np\n",
    "\n",
    "crime_counts = df_Jerusalem[df_Jerusalem[\"Year\"].isin([2023, 2024])].groupby([\"StatisticGroup\", \"Year\"]).size().reset_index(name=\"Count\")\n",
    "pivot_df = crime_counts.pivot(index=\"StatisticGroup\", columns=\"Year\", values=\"Count\").fillna(0)\n",
    "pivot_df[\"Change\"] = pivot_df[2024] - pivot_df[2023]\n",
    "declined_crimes = pivot_df[pivot_df[\"Change\"] < 0].reset_index()\n",
    "plot_df = pd.melt(\n",
    "    declined_crimes,\n",
    "    id_vars=[\"StatisticGroup\"],\n",
    "    value_vars=[2023, 2024],\n",
    "    var_name=\"Year\",\n",
    "    value_name=\"Count\"\n",
    "    \n",
    ")\n",
    "\n",
    "pivot_df_2024 = crime_counts.pivot(index=\"StatisticGroup\", columns=\"Year\", values=\"Count\").fillna(0)\n",
    "pivot_df_2024[\"Change\"] = pivot_df_2024[2023] - pivot_df_2024[2024]\n",
    "declined_crimes_2024 = pivot_df_2024[pivot_df_2024[\"Change\"] < 0].reset_index()\n",
    "plot_df_2024 = pd.melt(\n",
    "    declined_crimes_2024,\n",
    "    id_vars=[\"StatisticGroup\"],\n",
    "    value_vars=[2023, 2024],\n",
    "    var_name=\"Year\",\n",
    "    value_name=\"Count\"\n",
    "    \n",
    ")\n",
    "\n",
    "fig, axes = plt.subplots(1, 2, figsize=(18, 6), sharey=True)\n",
    "order1 = declined_crimes.sort_values(by=2024, ascending=False)[\"StatisticGroup\"]\n",
    "order2 = declined_crimes_2024.sort_values(by=2023, ascending=False)[\"StatisticGroup\"]\n",
    "sns.barplot(\n",
    "    data=plot_df,\n",
    "    x=\"StatisticGroup\",\n",
    "    y=\"Count\",\n",
    "    hue=\"Year\",\n",
    "    palette=custom_palette,\n",
    "    edgecolor='black',\n",
    "    ax=axes[0],\n",
    "    order=order1\n",
    ")\n",
    "axes[0].set_title(\"Decrease: 2024 compared to 2023\")\n",
    "axes[0].set_xlabel(\"Crime Type\")\n",
    "axes[0].set_ylabel(\"Number of Crimes\")\n",
    "axes[0].tick_params(axis='x', rotation=45)\n",
    "axes[0].legend(title=\"Year\")\n",
    "\n",
    "# גרף שני\n",
    "sns.barplot(\n",
    "    data=plot_df_2024,\n",
    "    x=\"StatisticGroup\",\n",
    "    y=\"Count\",\n",
    "    hue=\"Year\",\n",
    "    palette=custom_palette,\n",
    "    edgecolor='black',\n",
    "    ax=axes[1],\n",
    "    order=order2\n",
    ")\n",
    "axes[1].set_title(\"Decrease: 2023 compared to 2024\")\n",
    "axes[1].set_xlabel(\"Crime Type\")\n",
    "axes[1].set_ylabel(\"\")\n",
    "axes[1].tick_params(axis='x', rotation=45)\n",
    "axes[1].legend(title=\"Year\")\n",
    "\n",
    "max_count = max(plot_df[\"Count\"].max(), plot_df_2024[\"Count\"].max())\n",
    "axes[0].set_yticks(np.arange(0, max_count + 10000, 10000))\n",
    "\n",
    "plt.tight_layout()\n",
    "plt.show()\n"
   ]
  },
  {
   "cell_type": "markdown",
   "id": "0b5caad6-eb09-482b-ba5e-d880bc251ef8",
   "metadata": {},
   "source": [
    " <div dir='rtl'>\n",
    "כשהתקבלה מתוך הנתונים ההבנה כי אכן מדובר במגמה שנוגעת לרוב סוגי הפשיעה בירושלים, ניגשנו לבחון מה הייתה המגמה ב19 הערים הגדולות בישראל בכמות מקרי הפשע ב2023-2024"
   ]
  },
  {
   "cell_type": "code",
   "execution_count": null,
   "id": "3dc82018-adcc-400f-a33f-176feb9d6a3e",
   "metadata": {
    "tags": []
   },
   "outputs": [],
   "source": [
    "\n",
    "df_Jerusalem = pd.read_csv(\"top20_ 23-24_.csv\")\n",
    "custom_palette = [\"#4B4B4B\", \"red\"]  \n",
    "\n",
    "jerusalem_df = df_Jerusalem[df_Jerusalem[\"Yeshuv\"] == \"Jerusalem\"].copy()\n",
    "other_cities_df = df_Jerusalem[df_Jerusalem[\"Yeshuv\"] != \"Jerusalem\"].copy()\n",
    "\n",
    "jerusalem_df[\"Time\"] = jerusalem_df[\"Year\"].astype(str) + \" \" + jerusalem_df[\"Quarter\"]\n",
    "other_cities_df[\"Time\"] = other_cities_df[\"Year\"].astype(str) + \" \" + other_cities_df[\"Quarter\"]\n",
    "\n",
    "quarter_order = ['Q1', 'Q2', 'Q3', 'Q4']\n",
    "year_order = sorted(df_Jerusalem[\"Year\"].unique()) # שימוש ב-df_Jerusalem שכבר הוגדר\n",
    "time_order = [f\"{year} {q}\" for year in year_order for q in quarter_order]\n",
    "\n",
    "jerusalem_df[\"Time\"] = pd.Categorical(jerusalem_df[\"Time\"], categories=time_order, ordered=True)\n",
    "other_cities_df[\"Time\"] = pd.Categorical(other_cities_df[\"Time\"], categories=time_order, ordered=True)\n",
    "\n",
    "grouped_jerusalem = jerusalem_df.groupby(\"Time\", observed=False).size().reset_index(name=\"Count\")\n",
    "grouped_jerusalem[\"Yeshuv\"] = \"Jerusalem\"\n",
    "\n",
    "grouped_other = other_cities_df.groupby(\"Time\", observed=False).size().reset_index(name=\"Count\")\n",
    "grouped_other[\"Yeshuv\"] = \"Other Cities\"\n",
    "\n",
    "combined = pd.concat([grouped_jerusalem, grouped_other])\n",
    "\n",
    "combined = combined.groupby([\"Yeshuv\", \"Time\"],observed=False)[\"Count\"].sum().reset_index()\n",
    "\n",
    "combined = combined.sort_values(by=[\"Yeshuv\", \"Time\"])\n",
    "\n",
    "def calculate_percentage_change(series):\n",
    "    previous = series.shift(1)\n",
    "    change = (series - previous) / previous * 100\n",
    "    return change\n",
    "\n",
    "combined[\"Percentage_Change\"] = combined.groupby(\"Yeshuv\")[\"Count\"].transform(calculate_percentage_change)\n",
    "\n",
    "plt.figure(figsize=(12, 6))\n",
    "sns.lineplot(data=combined, x=\"Time\", y=\"Percentage_Change\", hue=\"Yeshuv\", marker=\"o\", linewidth=3, palette=custom_palette)\n",
    "\n",
    "plt.title(\"Percentage Change in Crime Count by Quarter (Relative to Previous Quarter)\")\n",
    "plt.xlabel(\"Quarter\")\n",
    "plt.ylabel(\"Percentage Change (%)\")\n",
    "plt.xticks(rotation=45)\n",
    "plt.axhline(0, color='black', linestyle='--', linewidth=0.7) # הוספת קו ב-0%\n",
    "plt.tight_layout()\n",
    "plt.show()"
   ]
  },
  {
   "cell_type": "markdown",
   "id": "25ddc969-1961-4814-b119-49086113015a",
   "metadata": {},
   "source": [
    "<div dir='rtl'>\n",
    "הופתענו לגלות כי ירושלים לא חולקת את מגמת הירידה בכמות הפשיעה ב2023-2024 עם שאר הערים הגדולות בארץ (19 הערים הגדולות) "
   ]
  },
  {
   "cell_type": "markdown",
   "id": "b83c82d7-b0fb-41bd-9097-83374ceecb93",
   "metadata": {},
   "source": [
    "<div dir=\"rtl\">\n",
    "\n",
    "<div style=\"color:white; border-radius:8px; background-color:#D8CAB8; font-size:200%; letter-spacing:1.0px; padding: 1px; text-align: center;\">\n",
    "    <b>לסיכום</b>\n",
    "</div>\n",
    "\n",
    "1. היינו סקרניות לבחון את היקף מקרי הפשיעה בעיר מעורבת כמו **ירושלים**, דווקא בתקופה מורכבת מבחינה ביטחונית במדינה, בשנים **2023–2024**.  \n",
    "2. ההנחה הראשונית שלנו הייתה שנראה **עלייה** בכמות מקרי הפשיעה בירושלים, לאור היותה עיר גדולה, מעורבת ורב-תרבותית – מעין מיקרוקוסמוס של החברה הישראלית.  \n",
    "3. להפתעתנו, מצאנו כי **ברבעון האחרון של שנת 2023** חלה בירושלים **ירידה ניכרת** במספר מקרי הפשיעה – מגמה הפוכה ממה שציפינו לראות.  \n",
    "4. עוד גילינו כי **מגמת הירידה נמשכת גם ברבעון הראשון של שנת 2024**.  \n",
    "5. מעניין לציין כי בתקופות מסוימות, המגמות בירושלים **מנוגדות לאלו שנצפו ב-19 הערים הגדולות בישראל**, או שהפערים באחוזי השינוי בין ירושלים לשאר הערים **בולטים** – נתון מפתיע שסתר את ההשערות הראשוניות שלנו.\n",
    "\n",
    "</div>\n"
   ]
  },
  {
   "cell_type": "markdown",
   "id": "d16fbd41-1b76-4f19-a009-0b9f928a3509",
   "metadata": {},
   "source": [
    "<div style=\"color:white; border-radius:8px; background-color:#D8CAB8; font-size:250%; letter-spacing:1.0px; padding: 1px; text-align: center;\">\n",
    "    <b>הקשר בין מצב סוציו - אקונומי לנתוני פשיעה</b>\n",
    "</div>\n"
   ]
  },
  {
   "cell_type": "markdown",
   "id": "0e6ec278-d624-4288-b7f8-15c589005f12",
   "metadata": {},
   "source": [
    "<div dir=\"rtl\">\n",
    "תחילה התמקדנו בהשוואה בין היקף הפשיעה בצפון תל אביב לבין דרום העיר, מתוך רצון להבין האם קיימים פערים משמעותיים בכמות העבירות בין אזורים בעלי מאפיינים חברתיים-כלכליים שונים בתוך אותה עיר.\n",
    "\n"
   ]
  },
  {
   "cell_type": "code",
   "execution_count": null,
   "id": "f0ba0e3f-6687-4731-b5a6-cca7098e5774",
   "metadata": {
    "tags": []
   },
   "outputs": [],
   "source": [
    "df = pd.read_pickle(\"https://github.com/hadasl1/Crimes_in_Israel/raw/main/pickled_df_update%20(3)%20(1)\")\n",
    "custom_palette = [\"#4B4B4B\",  \n",
    "                  \"#D8CAB8\"]  \n",
    "\n",
    "\n",
    "tel_aviv = df[\n",
    "    ((df[\"PoliceStation\"] == \"Tel Aviv South New Ayalon Station\") | \n",
    "    (df[\"PoliceStation\"] == \"Tel Aviv North Yarkon Station\")) \n",
    "]\n",
    "\n",
    "count_by_station = tel_aviv.groupby('PoliceStation').size().reset_index(name='Station count')\n",
    "\n",
    "labels = count_by_station['PoliceStation']\n",
    "sizes = count_by_station['Station count']\n",
    "\n",
    "plt.figure(figsize=(6, 6))\n",
    "plt.pie(sizes, labels=labels, autopct='%1.1f%%', startangle=140,colors=custom_palette)\n",
    "plt.title('Crime Distribution by Police Station (Tel Aviv)')\n",
    "plt.axis('equal') \n",
    "plt.tight_layout()\n",
    "plt.show()"
   ]
  },
  {
   "cell_type": "markdown",
   "id": "cf7c7bec-4608-4dba-84f6-8c5f4660372e",
   "metadata": {},
   "source": [
    " <div dir='rtl'>\n",
    "לאחר שהתברר כי אכן יש הבדלים בין כמות הפשיעה, רצינו לבדוק מה מאפיין את הפשיעה בצפון תל אביב"
   ]
  },
  {
   "cell_type": "code",
   "execution_count": null,
   "id": "10561c48-775a-442f-b446-7747c8483e16",
   "metadata": {
    "tags": []
   },
   "outputs": [],
   "source": [
    "\n",
    "north_all = df[df[\"PoliceStation\"] == \"Tel Aviv North Yarkon Station\"].copy()\n",
    "north_all['StationLabel'] = 'Tel Aviv North Yarkon'\n",
    "\n",
    "south_all = df[df[\"PoliceStation\"] == \"Tel Aviv South New Ayalon Station\"].copy()\n",
    "south_all['StationLabel'] = 'Tel Aviv South Ayalon'\n",
    "\n",
    "\n",
    "sum_crimes = north_all[\"StatisticGroup\"].value_counts().reset_index()\n",
    "top4 = sum_crimes.head(13)\n",
    "sns.barplot(data=top4, y='count', x='StatisticGroup',\n",
    "            dodge=False, errorbar=None, palette=\"Reds\",edgecolor='black')\n",
    "plt.xticks(rotation=45, ha='right')\n",
    "plt.title(\"Total Count per Statistic Type - north\")\n",
    "plt.tight_layout()\n",
    "plt.show()"
   ]
  },
  {
   "cell_type": "markdown",
   "id": "1228fdf3-5b7c-45c6-919b-1d01004575a5",
   "metadata": {},
   "source": [
    "<div dir=\"rtl\">\n",
    "כעת התברר כי סוג הפשיעה המוביל בצפון תל אביב הוא עבירות רכוש.\n",
    "ממצא זה מתיישב עם העובדה שאיזור צפון העיר מתאפיין ברמה סוצי-אקונומית גבוהה, ולכן ייתכן כי איזור זה מהווה יעד מועדף לפשעי רכוש"
   ]
  },
  {
   "cell_type": "code",
   "execution_count": null,
   "id": "d5bc3a05-4997-4f83-bc38-c0f507ec37bd",
   "metadata": {
    "tags": []
   },
   "outputs": [],
   "source": [
    "property_offenses=tel_aviv[tel_aviv[\"StatisticGroup\"]==\"Property Offenses\"]\n",
    "lst_property_offenses=property_offenses[\"StatisticType\"].unique()\n",
    "data_property_offenses=pd.DataFrame({\n",
    "    \"Property Offenses\":lst_property_offenses\n",
    "})\n",
    "data_property_offenses"
   ]
  },
  {
   "cell_type": "markdown",
   "id": "c1a070af-b7b2-4957-bf66-aa2aedd6cfc2",
   "metadata": {},
   "source": [
    " <div dir='rtl'>\n",
    "רצינו להציג את סוגי הפשעים בהם הדרום עולה על הצפון"
   ]
  },
  {
   "cell_type": "code",
   "execution_count": null,
   "id": "4b5805d1-5881-466c-9c81-8a9d80e9b7bc",
   "metadata": {
    "tags": []
   },
   "outputs": [],
   "source": [
    "custom_palette1 = [\"#4B4B4B\"] \n",
    "count_by_type = tel_aviv.groupby(['PoliceStation', 'StatisticGroup']).size().reset_index(name='CrimeCount')\n",
    "\n",
    "pivot_df = count_by_type.pivot(index='StatisticGroup', columns='PoliceStation', values='CrimeCount').fillna(0)\n",
    "\n",
    "south_more_than_north = pivot_df[\n",
    "    pivot_df['Tel Aviv South New Ayalon Station'] > pivot_df['Tel Aviv North Yarkon Station']\n",
    "]\n",
    "\n",
    "south_more_than_north = south_more_than_north.reset_index()\n",
    "south_more_than_north = south_more_than_north.sort_values(by='Tel Aviv South New Ayalon Station', ascending=False).reset_index()\n",
    "\n",
    "sns.barplot(\n",
    "    data=south_more_than_north,\n",
    "    x='StatisticGroup',\n",
    "    y='Tel Aviv South New Ayalon Station',\n",
    "    color=\"#4B4B4B\",\n",
    "    edgecolor='black'\n",
    "    \n",
    ")\n",
    "\n",
    "plt.xticks(rotation=45, ha='right')\n",
    "plt.title(\"Types of crimes that are more popular in the South\")\n",
    "plt.ylabel(\"Crime Count (South)\")\n",
    "plt.xlabel(\"Statistic Group\")\n",
    "plt.tight_layout()\n",
    "plt.show()"
   ]
  },
  {
   "cell_type": "code",
   "execution_count": null,
   "id": "72c5f90f-dd58-45ac-bc30-94c01dbdd1d2",
   "metadata": {
    "tags": []
   },
   "outputs": [],
   "source": [
    "south_all = tel_aviv[tel_aviv[\"PoliceStation\"] == \"Tel Aviv South New Ayalon Station\"].copy()\n",
    "sum_crimes1 = south_all[south_all[\"StatisticGroup\"]==\"Moral Offenses\"]\n",
    "sum_crimes1[\"StatisticType\"].value_counts()"
   ]
  },
  {
   "cell_type": "markdown",
   "id": "ae70be9b-3671-4763-a202-d5925e5acf8f",
   "metadata": {},
   "source": [
    " <div dir='rtl'>\n",
    "החלטנו שיהיה מעניין להסתכל על עבירות מסוג \"moral offences\" (שכוללות בתוכן גם עבירות סם) מהסיבה שאלה מתקשרות לנו כעבירות שמאפיינות מצב סוציו- אקונומי נמוך ולבחון את התפלגות סוגי העבירות מהקבוצה בצפון למול הדרום"
   ]
  },
  {
   "cell_type": "code",
   "execution_count": null,
   "id": "a294568f-e72e-47a5-8751-24f0a2ba2e13",
   "metadata": {
    "tags": []
   },
   "outputs": [],
   "source": [
    "custom_palette = [\"#4B4B4B\", \n",
    "                  \"#D8CAB8\"] \n",
    "tel_aviv_moral = tel_aviv[((tel_aviv[\"StatisticGroup\"] == \"Moral Offenses\"))] \n",
    "count_moral_by_sub_type = tel_aviv_moral.groupby(['PoliceStation', 'StatisticType']).size().reset_index(name='CrimeCount')\n",
    "count_moral_by_sub_type = count_moral_by_sub_type.sort_values(by='CrimeCount', ascending=False)\n",
    "sns.barplot(data=count_moral_by_sub_type, x='StatisticType', y='CrimeCount', hue='PoliceStation',  palette=custom_palette,edgecolor='black')\n",
    "plt.legend(loc='upper right')\n",
    "plt.xticks(rotation=45, ha='right')\n",
    "plt.show()"
   ]
  },
  {
   "cell_type": "markdown",
   "id": "82540117-7cf3-44b0-b3db-c9186c1216de",
   "metadata": {},
   "source": [
    "<div dir=\"rtl\">\n",
    "הופתענו לגלות כי על אף הפער המשמעותי בסוג הפשיעה מהקטגוריה ״moral offences\", החלוקה היא יחסית ברורה: בכל מה שקשור לאחזקה, ייבוא, ייצוא, וייצור של סמים - הדרום מוביל, אך בכל מה שקשור לצריכה - הצפון עולה על הדרום."
   ]
  },
  {
   "cell_type": "markdown",
   "id": "a78a93c3-03d6-4363-942e-5add75aa7db6",
   "metadata": {},
   "source": [
    "<div dir=\"rtl\" style=\"text-align: right;\">\n",
    "\n",
    "<div style=\"color:white; border-radius:8px; background-color:#D8CAB8; font-size:200%; letter-spacing:1.0px; padding: 1px; text-align: center;\">\n",
    "    <b>לסיכום</b>\n",
    "</div>\n",
    "\n",
    "\n",
    "1. תחילה נציין כי המטרה הראשונית הייתה להבין האם קיימים הבדלים – ואם כן, אילו – בין היקף וסוגי הפשיעה בצפון תל אביב לבין דרום העיר.  \n",
    "2. ציפינו בתחילה לגלות שיעור גבוה יותר של מקרי פשיעה בדרום תל אביב, אך הופתענו לגלות כי **הנחת המוצא שלנו הייתה שגויה**.  \n",
    "3. מנגד, ראינו כי **פשעי רכוש** בצפון תל אביב נפוצים במיוחד – ממצא שדייק את ההבנה שלנו באשר למאפייני האזור.  \n",
    "4. בהמשך בחרנו להתמקד ב**עבירות סמים**, בהיותן עבירות שחוצות מגזרים ומעמדות, וניסינו להבין כיצד הן מתפלגות גיאוגרפית בעיר. בנוסף, העלינו השערה שעבירות סמים עשויות להיות קשורות לרקע סוציו-אקונומי נמוך.  \n",
    "5. התובנה המרכזית שהגענו אליה הייתה **מפתיעה יחסית**:  \n",
    "   - **עבירות צריכת סם** נפוצות יותר בצפון תל אביב.  \n",
    "   - לעומת זאת, **בדרום העיר נפוצות יותר עבירות \"מעטפת\"** הקשורות לצריכת סמים (למשל סחר, החזקה, שימוש באזורים ציבוריים).\n",
    "\n",
    "</div>\n"
   ]
  },
  {
   "cell_type": "markdown",
   "id": "62849cd3-e1cd-4e23-9276-1789f8f3e651",
   "metadata": {},
   "source": [
    "<div style=\"color:white; border-radius:8px; background-color:#D8CAB8; font-size:250%; letter-spacing:1.0px; padding: 1px; text-align: center;\">\n",
    "    <b>איך חופשת הקיץ משפיעה על הפשיעה בישראל</b>\n",
    "</div>"
   ]
  },
  {
   "cell_type": "markdown",
   "id": "7db57794-c289-498d-8803-735d1da49cde",
   "metadata": {},
   "source": [
    " <div dir='rtl'>\n",
    "תחילה רצינו לבדוק האם קיימת עליה בפשיעה בישראל, בקרב 20 הערים הגדולות, במהלך חודשי הקיץ (הרבעון השלישי) לעומת יתר הרבעונים לאורך השנה"
   ]
  },
  {
   "cell_type": "code",
   "execution_count": null,
   "id": "a6a74c3c-5f63-4ac3-9557-7897f3e9817f",
   "metadata": {
    "tags": []
   },
   "outputs": [],
   "source": [
    "vication_df = pd.read_pickle(\"https://raw.githubusercontent.com/hadasl1/Crimes_in_Israel/main/pickled_vication_df%20(2)%20(1)\")\n",
    "all_df = pd.read_pickle(\"https://github.com/hadasl1/Crimes_in_Israel/raw/main/pickled_df_update%20(3)%20(1)\")\n",
    "\n",
    "Population=[995073,479153,296187,264001,257388,238796,221768,215704,197673,\n",
    "175612,165582,159836,152576,129442,108956,104731,102283,101440,86968,50215,57800]\n",
    "City=[\"Jerusalem\",\"Tel Aviv-Yafo\",\"Haifa\",\"Rishon LeZion\",\"Petah Tikva\",\"Netanya\",\"Bnei Brak\",\"Beersheba\",\"Holon\",\"Ramat Gan\",\"Beit Shemesh\",\n",
    "\"Ashkelon\",\"Rehovot\",\"Bat Yam\",\"Herzliya\",\"Hadera\",\"Modiin-Maccabim-Reut\",\"Kfar Saba\",\"Lod\",\"Tiberias\",\"Eilat\"]\n",
    "\n",
    "\n",
    "City_Population= pd.DataFrame({\n",
    "    \"City\": City,\n",
    "    \"Population\": Population\n",
    "})"
   ]
  },
  {
   "cell_type": "code",
   "execution_count": null,
   "id": "4bfc8de7-796d-4b4e-a18f-8ee806e10dd2",
   "metadata": {
    "tags": []
   },
   "outputs": [],
   "source": [
    "plt.figure(figsize=(8, 5))\n",
    "sns.countplot(data=all_df, x=\"Quarter\", \n",
    "              order=[\"Q1\", \"Q2\", \"Q3\", \"Q4\"], \n",
    "              color=\"#D8CAB8\",edgecolor='black')\n",
    "plt.xticks(rotation=0)\n",
    "plt.grid(axis='y', linestyle='--', alpha=0.7)\n",
    "plt.show()"
   ]
  },
  {
   "cell_type": "markdown",
   "id": "ed0b73f0-9b47-48b2-90c2-76619919b3c9",
   "metadata": {},
   "source": [
    " <div dir='rtl'>\n",
    "העלינו את ההשערה כי ייתכן שהעלייה בפשיעה במהלך חודשי הקיץ נובעת בעיקר מהתרחשותה בעיירות נופש. לכן, בחנו את שיעור הפשיעה בעיירות הנופש באחוזים, והשווינו אותו לשיעור הפשיעה ביתר הערים הגדולות בישראל. בחרנו להתמקד בארבעת ערי הנופש הפופולריות בישראל - אילת, טבריה, ירושלים ותל אביב\n"
   ]
  },
  {
   "cell_type": "code",
   "execution_count": null,
   "id": "e6708d61-d5a9-4ced-bfe7-d840ca1a108c",
   "metadata": {
    "tags": []
   },
   "outputs": [],
   "source": [
    "custom_palette = [\"#4B4B4B\",  \n",
    "                  \"#D8CAB8\"]\n",
    "\n",
    "cities_to_remove = [\"Tel Aviv-Yafo\", \"Jerusalem\"]\n",
    "filter_new_q3 = all_df[(all_df[\"Quarter\"] == \"Q3\") & (~all_df[\"Yeshuv\"].isin(cities_to_remove))]\n",
    "strike_vication_q3 = vication_df[vication_df[\"Quarter\"] == \"Q3\"]\n",
    "\n",
    "crime_counts = pd.DataFrame({\n",
    "    \"Group\": [\"Top 18 (excluding resort towns)\", \"Resort Towns\"],\n",
    "    \"Total Crimes\": [len(filter_new_q3), len(strike_vication_q3)]\n",
    "})\n",
    "\n",
    "plt.figure(figsize=(5, 5))\n",
    "plt.pie(\n",
    "    crime_counts[\"Total Crimes\"],\n",
    "    labels=crime_counts[\"Group\"],\n",
    "    autopct='%1.1f%%',\n",
    "    startangle=140,\n",
    "    colors=custom_palette,\n",
    ")\n",
    "plt.title(\"Total Number of Crimes in Q3 by City Group\")\n",
    "plt.axis('equal')  \n",
    "plt.tight_layout()\n",
    "plt.show()"
   ]
  },
  {
   "cell_type": "markdown",
   "id": "e0065fe3-61ea-45d6-b80a-0334295d2b12",
   "metadata": {},
   "source": [
    " <div dir='rtl'>\n",
    "לאחר שהתקבלה ההבנה כי ייתכן שהעלייה בפשיעה ברבעון השלישי נובעת מהתרחשות בעיירות הנופש, רצינו להשוות בין היקף האוכלוסייה בשתי הקבוצות, על מנת לנרמל את הנתונים בהמשך."
   ]
  },
  {
   "cell_type": "code",
   "execution_count": null,
   "id": "77adb0fa-17e5-4d62-b28b-05f9e0eecdf8",
   "metadata": {
    "tags": []
   },
   "outputs": [],
   "source": [
    "Top_18=[\"Haifa\",\"Rishon LeZion\",\"Petah Tikva\",\"Netanya\",\"Bnei Brak\",\"Beersheba\",\"Holon\",\"Ramat Gan\",\"Beit Shemesh\",\n",
    "\"Ashkelon\",\"Rehovot\",\"Bat Yam\",\"Herzliya\",\"Hadera\",\"Modiin-Maccabim-Reut\",\"Kfar Saba\",\"Lod\",]\n",
    "\n",
    "resort_towns_list=[\"Jerusalem\",\"Tel Aviv-Yafo\",\"Tiberias\",\"Eilat\"]\n",
    "city=[\"Top 18 (excluding resort towns)\",\"Resort Towns\"]\n",
    "top_18_excluding_resort_towns = City_Population[City_Population[\"City\"].isin(Top_18)]\n",
    "resort_towns=City_Population[City_Population[\"City\"].isin(resort_towns_list)]\n",
    "\n",
    "City_Population_filter= pd.DataFrame({\n",
    "    \"City\": city,\n",
    "    \"Population\": [top_18_excluding_resort_towns[\"Population\"].sum(),resort_towns[\"Population\"].sum()]})\n",
    "sns.barplot(City_Population_filter, x=\"City\",y=\"Population\",color=\"#4B4B4B\",\n",
    "    edgecolor='black')"
   ]
  },
  {
   "cell_type": "markdown",
   "id": "837fd971-b59d-4e69-b46c-3a3c60e97cfc",
   "metadata": {},
   "source": [
    " <div dir='rtl'>\n",
    "נרמלנו את הנתונים כך שנוכל לבחון את כמות הפשיעה ביחס לגודל האוכלוסייה – כלומר, מספר מקרי הפשיעה לכל 10,000 תושבים – בכל אחד מהאזורים: עיירות הנופש מול יתר הערים."
   ]
  },
  {
   "cell_type": "code",
   "execution_count": null,
   "id": "9f1d4772-fc3d-4914-a377-49d839be3aa5",
   "metadata": {
    "tags": []
   },
   "outputs": [],
   "source": [
    "palettes1 = ['Reds', 'OrRd', 'PuRd', 'coolwarm', 'RdGy', 'RdBu']\n",
    "cities_to_remove=[\"Tel Aviv-Yafo\",'Jerusalem']\n",
    "filter_new_q3 = all_df[(all_df[\"Quarter\"] == \"Q3\")]\n",
    "filter_new_q3= filter_new_q3[~filter_new_q3[\"Yeshuv\"].isin(cities_to_remove)]\n",
    "strike_vication_q3=vication_df[vication_df[\"Quarter\"] == \"Q3\"]\n",
    "\n",
    "pivot = filter_new_q3.pivot_table(index=\"StatisticGroup\", columns=\"Quarter\", aggfunc=\"size\", fill_value=0)\n",
    "pivot1 = strike_vication_q3.pivot_table(index=\"StatisticGroup\", columns=\"Quarter\", aggfunc=\"size\", fill_value=0)\n",
    "\n",
    "pivot_normalized = (pivot / top_18_excluding_resort_towns[\"Population\"].sum()) * 10000\n",
    "pivot1_normalized = (pivot1 / resort_towns[\"Population\"].sum()) * 10000\n",
    "\n",
    "fig, axes = plt.subplots(figsize=(18, 10), ncols=2)\n",
    "sns.set(font_scale=1.2)\n",
    "\n",
    "sns.heatmap(pivot_normalized, cmap=\"Reds\", annot=True, fmt=\".2f\", ax=axes[0], cbar=False)\n",
    "axes[0].set_title(\"Top 18 Major Cities (Excluding Resort Towns)\", fontsize=16)\n",
    "axes[0].tick_params(axis='y', labelrotation=0)\n",
    "\n",
    "sns.heatmap(pivot1_normalized, cmap=\"Reds\", annot=True, fmt=\".2f\", ax=axes[1])\n",
    "axes[1].set_title(\"Resort Towns\", fontsize=16)\n",
    "axes[1].tick_params(axis='y', labelrotation=0)\n",
    "\n",
    "plt.tight_layout()\n",
    "plt.show()\n"
   ]
  },
  {
   "cell_type": "markdown",
   "id": "38f02a2c-e5ea-4986-9286-3c10df91f6b3",
   "metadata": {},
   "source": [
    "<div dir='rtl'>\n",
    "לאחר נרמול הנתונים, ניתן לראות כי עדיין קיים פער משמעותי בכמות העבירות הכוללת בין ערי הנופש לבין יתר הערים הגדולות, פער שניכר על פני כל סוגי העבירות."
   ]
  },
  {
   "cell_type": "markdown",
   "id": "69d77ea5-49e7-4a5c-949d-996880de9913",
   "metadata": {},
   "source": [
    "<div dir=\"rtl\" style=\"text-align: right;\">\n",
    "\n",
    "<div style=\"color:white; border-radius:8px; background-color:#D8CAB8; font-size:200%; letter-spacing:1.0px; padding: 1px; text-align: center;\">\n",
    "    <b>לסיכום</b>\n",
    "</div>\n",
    "\n",
    "1. התחלנו לעסוק בתובנה הזו בגישה יחסית סקפטית. הנחנו שאולי נראה הבדלים בין הרבעון השלישי לבין שאר הרבעונים, אך לא היינו בטוחות שהם יהיו משמעותיים מספיק כדי להתקדם מכאן.  \n",
    "2. לאחר שזיהינו שקיים הבדל מסוים, החלטנו לשנות מעט כיוון ולבחון מה קורה בעיירות הנופש הישראליות במהלך חודשי הקיץ. זאת מתוך ההנחה שרבים מאזרחי המדינה בוחרים לבלות בהן ברבעון השלישי – על אחת כמה וכמה בשנת מלחמה, שבה תיירות החוץ הייתה פחות נגישה בעקבות השבתת טיסות של חברות תעופה זרות.  \n",
    "3. הופתענו לגלות כי לאחר נרמול הנתונים, קיימים פערים משמעותיים מאוד בכמות הפשיעה בעיירות הנופש במהלך הרבעון השלישי, לעומת יתר הערים הגדולות בישראל. זהו ממצא מטריד, שעורר אצלנו מחשבה ותהיות לגבי אופייה המוסרי של התיירות הישראלית המקומית.\n",
    "\n",
    "</div>\n"
   ]
  }
 ],
 "metadata": {
  "kernelspec": {
   "display_name": "Python 3 (ipykernel)",
   "language": "python",
   "name": "python3"
  },
  "language_info": {
   "codemirror_mode": {
    "name": "ipython",
    "version": 3
   },
   "file_extension": ".py",
   "mimetype": "text/x-python",
   "name": "python",
   "nbconvert_exporter": "python",
   "pygments_lexer": "ipython3",
   "version": "3.11.5"
  }
 },
 "nbformat": 4,
 "nbformat_minor": 5
}
